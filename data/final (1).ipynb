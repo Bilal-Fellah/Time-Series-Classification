{
  "cells": [
    {
      "cell_type": "markdown",
      "id": "bfb8f17e",
      "metadata": {
        "id": "bfb8f17e"
      },
      "source": [
        "## 🧪 Data Preparation and Model Setup\n",
        "\n",
        "In this section, we import the necessary libraries for:\n",
        "- Data manipulation\n",
        "- Preprocessing and dimensionality reduction\n",
        "- Handling imbalanced datasets\n",
        "- Building and training a PyTorch model\n"
      ]
    },
    {
      "cell_type": "code",
      "execution_count": 45,
      "id": "68ea50b2",
      "metadata": {
        "id": "68ea50b2"
      },
      "outputs": [],
      "source": [
        "# 📦 Importing libraries\n",
        "import pandas as pd\n",
        "import numpy as np\n",
        "\n",
        "# ⚙️ Scikit-learn utilities\n",
        "from sklearn.model_selection import train_test_split\n",
        "from sklearn.preprocessing import StandardScaler, LabelEncoder\n",
        "from sklearn.decomposition import PCA\n",
        "from sklearn.utils.class_weight import compute_class_weight\n",
        "from sklearn.metrics import accuracy_score, classification_report\n",
        "\n",
        "# ⚖️ Handling class imbalance\n",
        "from imblearn.over_sampling import SMOTE\n",
        "\n",
        "# 🔥 PyTorch modules\n",
        "import torch\n",
        "import torch.nn as nn\n",
        "import torch.optim as optim\n",
        "from torch.utils.data import TensorDataset, DataLoader\n"
      ]
    },
    {
      "cell_type": "markdown",
      "id": "815756f9",
      "metadata": {
        "id": "815756f9"
      },
      "source": [
        "## 🔧 Load and Preprocess Data\n",
        "\n",
        "In this step, we:\n",
        "- Load the dataset from a CSV file\n",
        "- Separate the features `X` and target variable `y`\n",
        "- Encode the target labels if they are categorical\n"
      ]
    },
    {
      "cell_type": "code",
      "execution_count": 46,
      "id": "d6a03817",
      "metadata": {
        "id": "d6a03817"
      },
      "outputs": [],
      "source": [
        "# 🔧 Load and preprocess data\n",
        "df = pd.read_csv(\"Sleep Train 5000.csv\")\n",
        "\n",
        "# 📊 Features and target\n",
        "X = df.drop(columns=[df.columns[0]])  # Drop first column (assumed to be the target)\n",
        "y = df[df.columns[0]]                 # Target variable\n",
        "\n",
        "# 🔠 Encode labels if they are categorical\n",
        "if y.dtype == 'object':\n",
        "    y = LabelEncoder().fit_transform(y)\n"
      ]
    },
    {
      "cell_type": "markdown",
      "id": "5749fe27",
      "metadata": {
        "id": "5749fe27"
      },
      "source": [
        "## ⚖️ Handle Class Imbalance with SMOTE\n",
        "\n",
        "To address potential class imbalance in the dataset, we use **SMOTE (Synthetic Minority Over-sampling Technique)**.  \n",
        "This generates synthetic samples for the minority class to balance the dataset.\n"
      ]
    },
    {
      "cell_type": "code",
      "execution_count": 47,
      "id": "8a3d1120",
      "metadata": {
        "id": "8a3d1120"
      },
      "outputs": [],
      "source": [
        "# Apply SMOTE for balancing\n",
        "X_res, y_res = SMOTE().fit_resample(X, y)\n"
      ]
    },
    {
      "cell_type": "markdown",
      "id": "097eebee",
      "metadata": {
        "id": "097eebee"
      },
      "source": [
        "## 🚦 Split Dataset into Training and Test Sets\n",
        "\n",
        "We split the dataset into:\n",
        "- **Training set** (80%)\n",
        "- **Test set** (20%)\n",
        "\n",
        "to evaluate model performance on unseen data.\n"
      ]
    },
    {
      "cell_type": "code",
      "execution_count": 48,
      "id": "bd6cf9c1",
      "metadata": {
        "id": "bd6cf9c1"
      },
      "outputs": [],
      "source": [
        "# Split dataset\n",
        "X_train, X_test, y_train, y_test = train_test_split(X_res, y_res, test_size=0.2, random_state=42)"
      ]
    },
    {
      "cell_type": "markdown",
      "id": "16b731cd",
      "metadata": {
        "id": "16b731cd"
      },
      "source": [
        "## 📏 Feature Scaling\n",
        "\n",
        "We scale the features using **StandardScaler** to ensure all features contribute equally to the model.  \n",
        "This transforms the data to have zero mean and unit variance."
      ]
    },
    {
      "cell_type": "code",
      "execution_count": 49,
      "id": "dd021bd7",
      "metadata": {
        "id": "dd021bd7"
      },
      "outputs": [],
      "source": [
        "# Scale and reduce features\n",
        "scaler = StandardScaler()\n",
        "X_train_scaled = scaler.fit_transform(X_train)\n",
        "X_test_scaled = scaler.transform(X_test)"
      ]
    },
    {
      "cell_type": "markdown",
      "id": "01b04f69",
      "metadata": {
        "id": "01b04f69"
      },
      "source": [
        "## 🔥 Convert Data to PyTorch Tensors and Prepare DataLoader\n",
        "\n",
        "- Convert NumPy arrays to PyTorch tensors for model training.\n",
        "- Create a `TensorDataset` and a `DataLoader` for efficient batching and shuffling during training.\n"
      ]
    },
    {
      "cell_type": "code",
      "execution_count": 50,
      "id": "5ba37053",
      "metadata": {
        "id": "5ba37053"
      },
      "outputs": [],
      "source": [
        "# Torch tensors\n",
        "y_train = y_train.values if isinstance(y_train, pd.Series) else y_train\n",
        "y_test = y_test.values if isinstance(y_test, pd.Series) else y_test\n",
        "\n",
        "X_train_tensor = torch.tensor(X_train_scaled, dtype=torch.float32)\n",
        "X_test_tensor = torch.tensor(X_test_scaled, dtype=torch.float32)\n",
        "y_train_tensor = torch.tensor(y_train, dtype=torch.long)\n",
        "y_test_tensor = torch.tensor(y_test, dtype=torch.long)\n",
        "\n",
        "train_ds = TensorDataset(X_train_tensor, y_train_tensor)\n",
        "train_dl = DataLoader(train_ds, batch_size=64, shuffle=True)\n"
      ]
    },
    {
      "cell_type": "markdown",
      "id": "92d0fdfa",
      "metadata": {
        "id": "92d0fdfa"
      },
      "source": [
        "## ✅ Improved MLP Model with GELU Activation and Xavier Weight Initialization\n",
        "\n",
        "- A multi-layer perceptron with three hidden layers.\n",
        "- Uses **Batch Normalization** and **Dropout** to improve training stability and reduce overfitting.\n",
        "- Applies **GELU activation**, which often outperforms ReLU.\n",
        "- Weights are initialized using **Xavier uniform initialization**.\n"
      ]
    },
    {
      "cell_type": "code",
      "execution_count": 51,
      "id": "0abd008f",
      "metadata": {
        "id": "0abd008f"
      },
      "outputs": [],
      "source": [
        "# ✅ Improved MLP with GELU and weight init\n",
        "class SuperMLP(nn.Module):\n",
        "    def __init__(self, input_dim, num_classes):\n",
        "        super(SuperMLP, self).__init__()\n",
        "        self.net = nn.Sequential(\n",
        "            nn.Linear(input_dim, 512),\n",
        "            nn.BatchNorm1d(512),\n",
        "            nn.LeakyReLU(0.1),\n",
        "            nn.Dropout(0.3),\n",
        "            nn.Linear(512, 256),\n",
        "            nn.BatchNorm1d(256),\n",
        "            nn.LeakyReLU(0.1),\n",
        "            nn.Dropout(0.2),\n",
        "            nn.Linear(256, num_classes)\n",
        "        )\n",
        "        self.init_weights()\n",
        "\n",
        "    def init_weights(self):\n",
        "        for m in self.net:\n",
        "            if isinstance(m, nn.Linear):\n",
        "                nn.init.xavier_uniform_(m.weight)\n",
        "                if m.bias is not None:\n",
        "                    nn.init.zeros_(m.bias)\n",
        "\n",
        "    def forward(self, x):\n",
        "        return self.net(x)"
      ]
    },
    {
      "cell_type": "markdown",
      "id": "50fb32bc",
      "metadata": {
        "id": "50fb32bc"
      },
      "source": [
        "## ✅ Setup Device and Initialize Model\n",
        "\n",
        "- Automatically use **GPU** if available, otherwise default to **CPU**.\n",
        "- Instantiate the `SuperMLP` model with input dimension and number of output classes.\n",
        "- Move the model to the selected device.\n"
      ]
    },
    {
      "cell_type": "code",
      "execution_count": 52,
      "id": "fe364252",
      "metadata": {
        "id": "fe364252"
      },
      "outputs": [],
      "source": [
        "# ✅ Setup\n",
        "device = torch.device(\"cuda\" if torch.cuda.is_available() else \"cpu\")\n",
        "model = SuperMLP(X_train_scaled.shape[1], len(np.unique(y))).to(device)"
      ]
    },
    {
      "cell_type": "markdown",
      "id": "e45e9200",
      "metadata": {
        "id": "e45e9200"
      },
      "source": [
        "## ⚖️ Handle Class Imbalance with Class Weights and Setup Training Components\n",
        "\n",
        "- Compute **class weights** to address imbalanced classes during loss calculation.\n",
        "- Use **CrossEntropyLoss** with class weights.\n",
        "- Set up **AdamW optimizer** for training.\n",
        "- Use **Cosine Annealing LR scheduler** for learning rate adjustment.\n"
      ]
    },
    {
      "cell_type": "code",
      "execution_count": 53,
      "id": "da1f0966",
      "metadata": {
        "id": "da1f0966"
      },
      "outputs": [],
      "source": [
        "# Class weights to handle imbalance\n",
        "class_weights = compute_class_weight(class_weight='balanced', classes=np.unique(y_train), y=y_train)\n",
        "class_weights_tensor = torch.tensor(class_weights, dtype=torch.float32).to(device)\n",
        "\n",
        "criterion = nn.CrossEntropyLoss(weight=class_weights_tensor)\n",
        "optimizer = optim.AdamW(model.parameters(), lr=0.001)\n",
        "scheduler = torch.optim.lr_scheduler.ReduceLROnPlateau(optimizer, mode='max', patience=3)"
      ]
    },
    {
      "cell_type": "markdown",
      "id": "7da6f6ee",
      "metadata": {
        "id": "7da6f6ee"
      },
      "source": [
        "## 🔄 Training Loop with Early Stopping\n",
        "\n",
        "- Train the model for up to 130 epochs.\n",
        "- Track training loss and validation accuracy.\n",
        "- Use early stopping to stop training if validation accuracy doesn’t improve for 10 consecutive epochs.\n",
        "- Save the best model state during training.\n"
      ]
    },
    {
      "cell_type": "code",
      "execution_count": 54,
      "id": "7988c5f1",
      "metadata": {
        "colab": {
          "base_uri": "https://localhost:8080/",
          "height": 1000
        },
        "id": "7988c5f1",
        "outputId": "7192a283-09e6-45db-be86-cc32dd6ebfdb"
      },
      "outputs": [
        {
          "name": "stdout",
          "output_type": "stream",
          "text": [
            "Epoch 1, Loss: 1.3169, Train Acc: 0.4440, Val Acc: 0.5805\n",
            "Epoch 2, Loss: 1.0473, Train Acc: 0.5745, Val Acc: 0.6360\n",
            "Epoch 3, Loss: 0.9453, Train Acc: 0.6219, Val Acc: 0.6650\n",
            "Epoch 4, Loss: 0.8544, Train Acc: 0.6649, Val Acc: 0.6800\n",
            "Epoch 5, Loss: 0.7978, Train Acc: 0.6869, Val Acc: 0.7045\n",
            "Epoch 6, Loss: 0.7432, Train Acc: 0.7189, Val Acc: 0.7220\n",
            "Epoch 7, Loss: 0.6993, Train Acc: 0.7322, Val Acc: 0.7130\n",
            "Epoch 8, Loss: 0.6613, Train Acc: 0.7526, Val Acc: 0.7495\n",
            "Epoch 9, Loss: 0.6265, Train Acc: 0.7640, Val Acc: 0.7680\n",
            "Epoch 10, Loss: 0.5932, Train Acc: 0.7742, Val Acc: 0.7665\n",
            "Epoch 11, Loss: 0.5712, Train Acc: 0.7847, Val Acc: 0.7745\n",
            "Epoch 12, Loss: 0.5372, Train Acc: 0.8014, Val Acc: 0.7750\n",
            "Epoch 13, Loss: 0.5182, Train Acc: 0.8096, Val Acc: 0.7880\n",
            "Epoch 14, Loss: 0.4952, Train Acc: 0.8167, Val Acc: 0.7880\n",
            "Epoch 15, Loss: 0.4685, Train Acc: 0.8251, Val Acc: 0.8040\n",
            "Epoch 16, Loss: 0.4435, Train Acc: 0.8399, Val Acc: 0.8000\n",
            "Epoch 17, Loss: 0.4395, Train Acc: 0.8347, Val Acc: 0.7925\n",
            "Epoch 18, Loss: 0.4185, Train Acc: 0.8434, Val Acc: 0.8070\n",
            "Epoch 19, Loss: 0.4196, Train Acc: 0.8445, Val Acc: 0.8060\n",
            "Epoch 20, Loss: 0.3824, Train Acc: 0.8608, Val Acc: 0.8115\n",
            "Epoch 21, Loss: 0.3973, Train Acc: 0.8510, Val Acc: 0.8135\n",
            "Epoch 22, Loss: 0.3709, Train Acc: 0.8600, Val Acc: 0.8185\n",
            "Epoch 23, Loss: 0.3583, Train Acc: 0.8680, Val Acc: 0.8155\n",
            "Epoch 24, Loss: 0.3410, Train Acc: 0.8722, Val Acc: 0.8230\n",
            "Epoch 25, Loss: 0.3479, Train Acc: 0.8755, Val Acc: 0.8250\n",
            "Epoch 26, Loss: 0.3332, Train Acc: 0.8790, Val Acc: 0.8265\n",
            "Epoch 27, Loss: 0.3076, Train Acc: 0.8861, Val Acc: 0.8255\n",
            "Epoch 28, Loss: 0.3064, Train Acc: 0.8861, Val Acc: 0.8300\n",
            "Epoch 29, Loss: 0.2956, Train Acc: 0.8939, Val Acc: 0.8385\n",
            "Epoch 30, Loss: 0.2966, Train Acc: 0.8885, Val Acc: 0.8230\n",
            "Epoch 31, Loss: 0.2983, Train Acc: 0.8934, Val Acc: 0.8245\n",
            "Epoch 32, Loss: 0.2753, Train Acc: 0.8982, Val Acc: 0.8240\n",
            "Epoch 33, Loss: 0.2737, Train Acc: 0.8972, Val Acc: 0.8355\n",
            "Epoch 34, Loss: 0.2199, Train Acc: 0.9221, Val Acc: 0.8425\n",
            "Epoch 35, Loss: 0.1909, Train Acc: 0.9337, Val Acc: 0.8445\n",
            "Epoch 36, Loss: 0.1915, Train Acc: 0.9363, Val Acc: 0.8440\n",
            "Epoch 37, Loss: 0.1839, Train Acc: 0.9374, Val Acc: 0.8485\n",
            "Epoch 38, Loss: 0.1748, Train Acc: 0.9424, Val Acc: 0.8490\n",
            "Epoch 39, Loss: 0.1801, Train Acc: 0.9390, Val Acc: 0.8520\n",
            "Epoch 40, Loss: 0.1712, Train Acc: 0.9407, Val Acc: 0.8515\n",
            "Epoch 41, Loss: 0.1668, Train Acc: 0.9433, Val Acc: 0.8530\n",
            "Epoch 42, Loss: 0.1636, Train Acc: 0.9443, Val Acc: 0.8520\n",
            "Epoch 43, Loss: 0.1611, Train Acc: 0.9459, Val Acc: 0.8535\n",
            "Epoch 44, Loss: 0.1535, Train Acc: 0.9479, Val Acc: 0.8500\n",
            "Epoch 45, Loss: 0.1522, Train Acc: 0.9476, Val Acc: 0.8590\n",
            "Epoch 46, Loss: 0.1580, Train Acc: 0.9454, Val Acc: 0.8575\n",
            "Epoch 47, Loss: 0.1389, Train Acc: 0.9523, Val Acc: 0.8525\n",
            "Epoch 48, Loss: 0.1465, Train Acc: 0.9519, Val Acc: 0.8535\n",
            "Epoch 49, Loss: 0.1388, Train Acc: 0.9549, Val Acc: 0.8525\n",
            "Epoch 50, Loss: 0.1407, Train Acc: 0.9510, Val Acc: 0.8505\n",
            "Epoch 51, Loss: 0.1320, Train Acc: 0.9573, Val Acc: 0.8545\n",
            "Epoch 52, Loss: 0.1468, Train Acc: 0.9479, Val Acc: 0.8540\n",
            "Epoch 53, Loss: 0.1380, Train Acc: 0.9560, Val Acc: 0.8505\n",
            "Epoch 54, Loss: 0.1361, Train Acc: 0.9549, Val Acc: 0.8535\n",
            "Epoch 55, Loss: 0.1378, Train Acc: 0.9545, Val Acc: 0.8545\n",
            "⏹️ Early stopping at epoch 55\n"
          ]
        },
        {
          "data": {
            "image/png": "[encoded data removed]",
            "text/plain": [
              "<Figure size 1000x500 with 1 Axes>"
            ]
          },
          "metadata": {},
          "output_type": "display_data"
        }
      ],
      "source": [
        "import matplotlib.pyplot as plt\n",
        "# Initialize lists to store metrics\n",
        "train_accuracies = []\n",
        "val_accuracies = []\n",
        "\n",
        "best_acc = 0\n",
        "epochs_no_improve = 0\n",
        "\n",
        "for epoch in range(130):\n",
        "    model.train()\n",
        "    running_loss = 0\n",
        "    correct_train = 0\n",
        "    total_train = 0\n",
        "\n",
        "    for xb, yb in train_dl:\n",
        "        xb, yb = xb.to(device), yb.to(device)\n",
        "        optimizer.zero_grad()\n",
        "        preds = model(xb)\n",
        "        loss = criterion(preds, yb)\n",
        "        loss.backward()\n",
        "        optimizer.step()\n",
        "\n",
        "        running_loss += loss.item()\n",
        "        _, predicted = torch.max(preds.data, 1)\n",
        "        total_train += yb.size(0)\n",
        "        correct_train += (predicted == yb).sum().item()\n",
        "\n",
        "    # Calculate training accuracy\n",
        "    train_acc = correct_train / total_train\n",
        "    train_accuracies.append(train_acc)\n",
        "\n",
        "    model.eval()\n",
        "    with torch.no_grad():\n",
        "        val_preds = model(X_test_tensor.to(device))\n",
        "        val_pred_labels = torch.argmax(val_preds, dim=1).cpu().numpy()\n",
        "        val_acc = accuracy_score(y_test, val_pred_labels)\n",
        "        val_accuracies.append(val_acc)\n",
        "\n",
        "    scheduler.step(val_acc)\n",
        "\n",
        "    print(f\"Epoch {epoch+1}, Loss: {running_loss/len(train_dl):.4f}, Train Acc: {train_acc:.4f}, Val Acc: {val_acc:.4f}\")\n",
        "\n",
        "    if val_acc > best_acc:\n",
        "        best_acc = val_acc\n",
        "        epochs_no_improve = 0\n",
        "        best_model = model.state_dict()\n",
        "    else:\n",
        "        epochs_no_improve += 1\n",
        "        if epochs_no_improve == 10:\n",
        "            print(f\"⏹️ Early stopping at epoch {epoch+1}\")\n",
        "            break\n",
        "\n",
        "# Plot both accuracies\n",
        "plt.figure(figsize=(10, 5))\n",
        "plt.plot(train_accuracies, label='Training Accuracy', color='blue')\n",
        "plt.plot(val_accuracies, label='Validation Accuracy', color='green')\n",
        "plt.xlabel('Epoch')\n",
        "plt.ylabel('Accuracy')\n",
        "plt.title('Training vs Validation Accuracy')\n",
        "plt.legend()\n",
        "plt.grid(True)\n",
        "plt.show()"
      ]
    },
    {
      "cell_type": "markdown",
      "id": "bd2e3334",
      "metadata": {
        "id": "bd2e3334"
      },
      "source": [
        "## 📊 Final Evaluation\n",
        "\n",
        "- Load the best model saved during training.\n",
        "- Evaluate on the test set.\n",
        "- Calculate and print the **accuracy** and detailed **classification report**.\n"
      ]
    },
    {
      "cell_type": "code",
      "execution_count": 55,
      "id": "5c31555f",
      "metadata": {
        "colab": {
          "base_uri": "https://localhost:8080/"
        },
        "id": "5c31555f",
        "outputId": "f9e5fa59-8598-4bcb-e4cf-8cb147b5a08f"
      },
      "outputs": [
        {
          "name": "stdout",
          "output_type": "stream",
          "text": [
            "\n",
            "📊 Final MLP Accuracy: 0.8545\n",
            "              precision    recall  f1-score   support\n",
            "\n",
            "           0       0.94      0.98      0.96       402\n",
            "           1       0.87      0.88      0.88       406\n",
            "           2       0.79      0.55      0.65       408\n",
            "           3       0.80      0.94      0.87       401\n",
            "           4       0.86      0.92      0.89       383\n",
            "\n",
            "    accuracy                           0.85      2000\n",
            "   macro avg       0.85      0.86      0.85      2000\n",
            "weighted avg       0.85      0.85      0.85      2000\n",
            "\n"
          ]
        }
      ],
      "source": [
        "# ✅ Evaluation\n",
        "model.load_state_dict(best_model)\n",
        "model.eval()\n",
        "with torch.no_grad():\n",
        "    preds = model(X_test_tensor.to(device))\n",
        "    pred_labels = torch.argmax(preds, dim=1).cpu().numpy()\n",
        "\n",
        "acc = accuracy_score(y_test, pred_labels)\n",
        "print(\"\\n📊 Final MLP Accuracy:\", round(acc, 4))\n",
        "print(classification_report(y_test, pred_labels))\n"
      ]
    },
    {
      "cell_type": "code",
      "execution_count": null,
      "id": "Du0y0cvEGvK9",
      "metadata": {
        "id": "Du0y0cvEGvK9"
      },
      "outputs": [],
      "source": []
    }
  ],
  "metadata": {
    "colab": {
      "provenance": []
    },
    "kernelspec": {
      "display_name": "Python 3",
      "language": "python",
      "name": "python3"
    },
    "language_info": {
      "codemirror_mode": {
        "name": "ipython",
        "version": 3
      },
      "file_extension": ".py",
      "mimetype": "text/x-python",
      "name": "python",
      "nbconvert_exporter": "python",
      "pygments_lexer": "ipython3",
      "version": "3.11.0"
    }
  },
  "nbformat": 4,
  "nbformat_minor": 5
}
